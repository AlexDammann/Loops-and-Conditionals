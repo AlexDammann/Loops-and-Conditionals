{
 "cells": [
  {
   "cell_type": "raw",
   "id": "9a2baeeb",
   "metadata": {},
   "source": [
    "Section 4.1 "
   ]
  },
  {
   "cell_type": "code",
   "execution_count": 8,
   "id": "e2188147",
   "metadata": {},
   "outputs": [
    {
     "name": "stdout",
     "output_type": "stream",
     "text": [
      "Too Low\n"
     ]
    }
   ],
   "source": [
    "secret = 8\n",
    "guess = 5\n",
    "if guess > secret:\n",
    "    print (\"Too High\")\n",
    "if guess < secret:\n",
    "    print (\"Too Low\")\n",
    "if guess == secret:\n",
    "    print (\"Correct!!\")\n",
    "    "
   ]
  },
  {
   "cell_type": "raw",
   "id": "111609dc",
   "metadata": {},
   "source": [
    "Section 4.2"
   ]
  },
  {
   "cell_type": "code",
   "execution_count": 11,
   "id": "09896de7",
   "metadata": {},
   "outputs": [
    {
     "name": "stdout",
     "output_type": "stream",
     "text": [
      "This is a Cherry!\n"
     ]
    }
   ],
   "source": [
    "small = True\n",
    "green = False\n",
    "if small:\n",
    "    if green:\n",
    "        print (\"This is a Pea!\")\n",
    "    else:\n",
    "        print (\"This is a Cherry!\")\n",
    "else:\n",
    "    if green:\n",
    "        print (\"This is a Watermelon!\")\n",
    "    else:\n",
    "        print (\"This is a Pumpkin!\")"
   ]
  },
  {
   "cell_type": "raw",
   "id": "5681da3e",
   "metadata": {},
   "source": [
    "Section 6.1"
   ]
  },
  {
   "cell_type": "code",
   "execution_count": 12,
   "id": "825cb788",
   "metadata": {},
   "outputs": [
    {
     "name": "stdout",
     "output_type": "stream",
     "text": [
      "3\n",
      "2\n",
      "1\n",
      "0\n"
     ]
    }
   ],
   "source": [
    "count = 3\n",
    "while count >=0:\n",
    "    print (count)\n",
    "    count -= 1"
   ]
  },
  {
   "cell_type": "raw",
   "id": "c5d41f1f",
   "metadata": {},
   "source": [
    "Section 6.2"
   ]
  },
  {
   "cell_type": "code",
   "execution_count": 20,
   "id": "fc9c148b",
   "metadata": {},
   "outputs": [
    {
     "name": "stdout",
     "output_type": "stream",
     "text": [
      "1 too low\n",
      "2 too low\n",
      "3 too low\n",
      "4 too low\n",
      "5 too low\n",
      "6 too low\n",
      "7 found it!\n"
     ]
    }
   ],
   "source": [
    "guess_me = 7\n",
    "number = 1\n",
    "while True:\n",
    "    if number < guess_me:\n",
    "        print(number, \"too low\")\n",
    "    elif number == guess_me:\n",
    "        print(number, \"found it!\")\n",
    "        break\n",
    "    else:\n",
    "        print(\"oops\")\n",
    "        break\n",
    "    number += 1"
   ]
  },
  {
   "cell_type": "raw",
   "id": "ccc61ee3",
   "metadata": {},
   "source": [
    "Section 6.3"
   ]
  },
  {
   "cell_type": "code",
   "execution_count": 22,
   "id": "ade27908",
   "metadata": {},
   "outputs": [
    {
     "name": "stdout",
     "output_type": "stream",
     "text": [
      "0 Too Low!\n",
      "1 Too Low!\n",
      "2 Too Low!\n",
      "3 Too Low!\n",
      "4 Too Low!\n",
      "5 Found it!\n"
     ]
    }
   ],
   "source": [
    "guess_me = 5\n",
    "for number in range(10):\n",
    "    if number < guess_me:\n",
    "        print (number, \"Too Low!\")\n",
    "    elif number == guess_me:\n",
    "        print (number, \"Found it!\")\n",
    "        break\n",
    "    else:\n",
    "        print (\"oops!\")\n",
    "        break"
   ]
  },
  {
   "cell_type": "raw",
   "id": "16059a29",
   "metadata": {},
   "source": [
    "End of Module!"
   ]
  }
 ],
 "metadata": {
  "kernelspec": {
   "display_name": "Python 3 (ipykernel)",
   "language": "python",
   "name": "python3"
  },
  "language_info": {
   "codemirror_mode": {
    "name": "ipython",
    "version": 3
   },
   "file_extension": ".py",
   "mimetype": "text/x-python",
   "name": "python",
   "nbconvert_exporter": "python",
   "pygments_lexer": "ipython3",
   "version": "3.9.12"
  }
 },
 "nbformat": 4,
 "nbformat_minor": 5
}
